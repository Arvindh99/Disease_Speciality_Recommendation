{
 "cells": [
  {
   "cell_type": "markdown",
   "id": "dbf0722e",
   "metadata": {},
   "source": [
    "### Predicting Disease based on the Symptoms and identifying specialist based on predicted disease"
   ]
  },
  {
   "cell_type": "markdown",
   "id": "7a2c54b6",
   "metadata": {},
   "source": [
    "**The dataset contains information about symptoms, diseases, recommended doctors for each disease, and descriptions of the diseases. Using a classification model, diseases have been predicted based on the given symptoms. The predictions provide insights into the predicted disease, the likelihood or chance of that disease based on the classification model, the recommended doctor to visit for that disease, and a description of the predicted disease.**\n",
    "\n",
    "**The summary output includes:**\n",
    "\n",
    "**Predicted Disease:** *-The disease that has been predicted based on the symptoms provided.-*\n",
    "\n",
    "**Chance of the Disease:** *-The likelihood or probability of having that disease, as determined by the classification model.-*\n",
    "\n",
    "**Recommended Doctor:** *-The doctor or specialist recommended to visit for further evaluation or treatment of the predicted disease.-*\n",
    "\n",
    "**Description of the Disease:** *-A brief overview or description of the predicted disease, providing additional information about its symptoms, causes, and potential treatments.-*\n",
    "\n",
    "**This summary aims to provide a concise and informative overview of the predicted disease, its associated likelihood, the recommended doctor, and a brief description to aid in understanding and decision-making regarding the predicted disease.**"
   ]
  },
  {
   "cell_type": "code",
   "execution_count": 1,
   "id": "1268b6b0",
   "metadata": {},
   "outputs": [],
   "source": [
    "import pandas as pd\n",
    "import numpy as np\n",
    "import matplotlib.pyplot as plt\n",
    "import seaborn as sns\n",
    "import warnings\n",
    "warnings.filterwarnings(\"ignore\")\n",
    "from sklearn.model_selection import train_test_split\n",
    "from sklearn.linear_model import LogisticRegression\n",
    "from sklearn.neighbors import KNeighborsClassifier\n",
    "from sklearn.naive_bayes import GaussianNB\n",
    "from sklearn import svm\n",
    "from sklearn import tree\n",
    "from sklearn.ensemble import RandomForestClassifier\n",
    "from sklearn.ensemble import GradientBoostingClassifier\n",
    "from sklearn.preprocessing import LabelEncoder\n",
    "from sklearn import metrics\n",
    "from sklearn.metrics import confusion_matrix\n",
    "from sklearn.model_selection import RandomizedSearchCV\n",
    "from collections import Counter"
   ]
  },
  {
   "cell_type": "code",
   "execution_count": 2,
   "id": "9184b65f",
   "metadata": {},
   "outputs": [],
   "source": [
    "pd.set_option('display.max_colwidth', -1)"
   ]
  },
  {
   "cell_type": "code",
   "execution_count": 3,
   "id": "33242dec",
   "metadata": {},
   "outputs": [],
   "source": [
    "dis_sym_data = pd.read_csv(\"Original_Dataset.csv\")"
   ]
  },
  {
   "cell_type": "code",
   "execution_count": 4,
   "id": "87b8e6c7",
   "metadata": {
    "scrolled": true
   },
   "outputs": [
    {
     "data": {
      "text/html": [
       "<div>\n",
       "<style scoped>\n",
       "    .dataframe tbody tr th:only-of-type {\n",
       "        vertical-align: middle;\n",
       "    }\n",
       "\n",
       "    .dataframe tbody tr th {\n",
       "        vertical-align: top;\n",
       "    }\n",
       "\n",
       "    .dataframe thead th {\n",
       "        text-align: right;\n",
       "    }\n",
       "</style>\n",
       "<table border=\"1\" class=\"dataframe\">\n",
       "  <thead>\n",
       "    <tr style=\"text-align: right;\">\n",
       "      <th></th>\n",
       "      <th>Disease</th>\n",
       "      <th>Symptom_1</th>\n",
       "      <th>Symptom_2</th>\n",
       "      <th>Symptom_3</th>\n",
       "      <th>Symptom_4</th>\n",
       "      <th>Symptom_5</th>\n",
       "      <th>Symptom_6</th>\n",
       "      <th>Symptom_7</th>\n",
       "      <th>Symptom_8</th>\n",
       "      <th>Symptom_9</th>\n",
       "      <th>Symptom_10</th>\n",
       "      <th>Symptom_11</th>\n",
       "      <th>Symptom_12</th>\n",
       "      <th>Symptom_13</th>\n",
       "      <th>Symptom_14</th>\n",
       "      <th>Symptom_15</th>\n",
       "      <th>Symptom_16</th>\n",
       "      <th>Symptom_17</th>\n",
       "    </tr>\n",
       "  </thead>\n",
       "  <tbody>\n",
       "    <tr>\n",
       "      <th>0</th>\n",
       "      <td>Fungal infection</td>\n",
       "      <td>itching</td>\n",
       "      <td>skin_rash</td>\n",
       "      <td>nodal_skin_eruptions</td>\n",
       "      <td>dischromic _patches</td>\n",
       "      <td>NaN</td>\n",
       "      <td>NaN</td>\n",
       "      <td>NaN</td>\n",
       "      <td>NaN</td>\n",
       "      <td>NaN</td>\n",
       "      <td>NaN</td>\n",
       "      <td>NaN</td>\n",
       "      <td>NaN</td>\n",
       "      <td>NaN</td>\n",
       "      <td>NaN</td>\n",
       "      <td>NaN</td>\n",
       "      <td>NaN</td>\n",
       "      <td>NaN</td>\n",
       "    </tr>\n",
       "    <tr>\n",
       "      <th>1</th>\n",
       "      <td>Fungal infection</td>\n",
       "      <td>skin_rash</td>\n",
       "      <td>nodal_skin_eruptions</td>\n",
       "      <td>dischromic _patches</td>\n",
       "      <td>NaN</td>\n",
       "      <td>NaN</td>\n",
       "      <td>NaN</td>\n",
       "      <td>NaN</td>\n",
       "      <td>NaN</td>\n",
       "      <td>NaN</td>\n",
       "      <td>NaN</td>\n",
       "      <td>NaN</td>\n",
       "      <td>NaN</td>\n",
       "      <td>NaN</td>\n",
       "      <td>NaN</td>\n",
       "      <td>NaN</td>\n",
       "      <td>NaN</td>\n",
       "      <td>NaN</td>\n",
       "    </tr>\n",
       "    <tr>\n",
       "      <th>2</th>\n",
       "      <td>Fungal infection</td>\n",
       "      <td>itching</td>\n",
       "      <td>nodal_skin_eruptions</td>\n",
       "      <td>dischromic _patches</td>\n",
       "      <td>NaN</td>\n",
       "      <td>NaN</td>\n",
       "      <td>NaN</td>\n",
       "      <td>NaN</td>\n",
       "      <td>NaN</td>\n",
       "      <td>NaN</td>\n",
       "      <td>NaN</td>\n",
       "      <td>NaN</td>\n",
       "      <td>NaN</td>\n",
       "      <td>NaN</td>\n",
       "      <td>NaN</td>\n",
       "      <td>NaN</td>\n",
       "      <td>NaN</td>\n",
       "      <td>NaN</td>\n",
       "    </tr>\n",
       "    <tr>\n",
       "      <th>3</th>\n",
       "      <td>Fungal infection</td>\n",
       "      <td>itching</td>\n",
       "      <td>skin_rash</td>\n",
       "      <td>dischromic _patches</td>\n",
       "      <td>NaN</td>\n",
       "      <td>NaN</td>\n",
       "      <td>NaN</td>\n",
       "      <td>NaN</td>\n",
       "      <td>NaN</td>\n",
       "      <td>NaN</td>\n",
       "      <td>NaN</td>\n",
       "      <td>NaN</td>\n",
       "      <td>NaN</td>\n",
       "      <td>NaN</td>\n",
       "      <td>NaN</td>\n",
       "      <td>NaN</td>\n",
       "      <td>NaN</td>\n",
       "      <td>NaN</td>\n",
       "    </tr>\n",
       "    <tr>\n",
       "      <th>4</th>\n",
       "      <td>Fungal infection</td>\n",
       "      <td>itching</td>\n",
       "      <td>skin_rash</td>\n",
       "      <td>nodal_skin_eruptions</td>\n",
       "      <td>NaN</td>\n",
       "      <td>NaN</td>\n",
       "      <td>NaN</td>\n",
       "      <td>NaN</td>\n",
       "      <td>NaN</td>\n",
       "      <td>NaN</td>\n",
       "      <td>NaN</td>\n",
       "      <td>NaN</td>\n",
       "      <td>NaN</td>\n",
       "      <td>NaN</td>\n",
       "      <td>NaN</td>\n",
       "      <td>NaN</td>\n",
       "      <td>NaN</td>\n",
       "      <td>NaN</td>\n",
       "    </tr>\n",
       "  </tbody>\n",
       "</table>\n",
       "</div>"
      ],
      "text/plain": [
       "            Disease   Symptom_1              Symptom_2              Symptom_3  \\\n",
       "0  Fungal infection  itching      skin_rash              nodal_skin_eruptions   \n",
       "1  Fungal infection   skin_rash   nodal_skin_eruptions   dischromic _patches    \n",
       "2  Fungal infection  itching      nodal_skin_eruptions   dischromic _patches    \n",
       "3  Fungal infection  itching      skin_rash              dischromic _patches    \n",
       "4  Fungal infection  itching      skin_rash              nodal_skin_eruptions   \n",
       "\n",
       "              Symptom_4 Symptom_5 Symptom_6 Symptom_7 Symptom_8 Symptom_9  \\\n",
       "0   dischromic _patches  NaN       NaN       NaN       NaN       NaN        \n",
       "1  NaN                   NaN       NaN       NaN       NaN       NaN        \n",
       "2  NaN                   NaN       NaN       NaN       NaN       NaN        \n",
       "3  NaN                   NaN       NaN       NaN       NaN       NaN        \n",
       "4  NaN                   NaN       NaN       NaN       NaN       NaN        \n",
       "\n",
       "  Symptom_10 Symptom_11 Symptom_12 Symptom_13 Symptom_14 Symptom_15  \\\n",
       "0  NaN        NaN        NaN        NaN        NaN        NaN         \n",
       "1  NaN        NaN        NaN        NaN        NaN        NaN         \n",
       "2  NaN        NaN        NaN        NaN        NaN        NaN         \n",
       "3  NaN        NaN        NaN        NaN        NaN        NaN         \n",
       "4  NaN        NaN        NaN        NaN        NaN        NaN         \n",
       "\n",
       "  Symptom_16 Symptom_17  \n",
       "0  NaN        NaN        \n",
       "1  NaN        NaN        \n",
       "2  NaN        NaN        \n",
       "3  NaN        NaN        \n",
       "4  NaN        NaN        "
      ]
     },
     "execution_count": 4,
     "metadata": {},
     "output_type": "execute_result"
    }
   ],
   "source": [
    "dis_sym_data.head()"
   ]
  },
  {
   "cell_type": "code",
   "execution_count": 5,
   "id": "225551a8",
   "metadata": {},
   "outputs": [
    {
     "data": {
      "text/plain": [
       "(4920, 18)"
      ]
     },
     "execution_count": 5,
     "metadata": {},
     "output_type": "execute_result"
    }
   ],
   "source": [
    "dis_sym_data.shape"
   ]
  },
  {
   "cell_type": "markdown",
   "id": "85d91629",
   "metadata": {},
   "source": [
    "**Finding unique values across all the symptoms column**"
   ]
  },
  {
   "cell_type": "code",
   "execution_count": 6,
   "id": "9788da5d",
   "metadata": {},
   "outputs": [],
   "source": [
    "columns_to_check = []\n",
    "for col in dis_sym_data.columns:\n",
    "    if col != 'Disease':\n",
    "        columns_to_check.append(col)"
   ]
  },
  {
   "cell_type": "code",
   "execution_count": 7,
   "id": "bc814463",
   "metadata": {},
   "outputs": [],
   "source": [
    "symptoms = dis_sym_data.iloc[:, 1:].values.flatten()\n",
    "symptoms = list(set(symptoms))"
   ]
  },
  {
   "cell_type": "markdown",
   "id": "1157f0b6",
   "metadata": {},
   "source": [
    "**Convert Symptoms to Binary Columns**"
   ]
  },
  {
   "cell_type": "code",
   "execution_count": 8,
   "id": "0b5bcee8",
   "metadata": {},
   "outputs": [],
   "source": [
    "for symptom in symptoms:\n",
    "    dis_sym_data[symptom] = dis_sym_data.iloc[:, 1:].apply(lambda row: int(symptom in row.values), axis=1)\n",
    "\n",
    "dis_sym_data_v1 = dis_sym_data.drop(columns=columns_to_check)"
   ]
  },
  {
   "cell_type": "code",
   "execution_count": 9,
   "id": "cdf6d6f3",
   "metadata": {},
   "outputs": [],
   "source": [
    "dis_sym_data_v1 = dis_sym_data_v1.loc[:, dis_sym_data_v1.columns.notna()]"
   ]
  },
  {
   "cell_type": "code",
   "execution_count": 10,
   "id": "c7976465",
   "metadata": {},
   "outputs": [
    {
     "data": {
      "text/plain": [
       "(4920, 132)"
      ]
     },
     "execution_count": 10,
     "metadata": {},
     "output_type": "execute_result"
    }
   ],
   "source": [
    "dis_sym_data_v1.shape"
   ]
  },
  {
   "cell_type": "code",
   "execution_count": 11,
   "id": "5e793182",
   "metadata": {},
   "outputs": [],
   "source": [
    "dis_sym_data_v1.columns = dis_sym_data_v1.columns.str.strip()"
   ]
  },
  {
   "cell_type": "code",
   "execution_count": 12,
   "id": "05c19a23",
   "metadata": {},
   "outputs": [
    {
     "data": {
      "text/plain": [
       "Index(['Disease', 'receiving_blood_transfusion', 'dark_urine', 'coma',\n",
       "       'movement_stiffness', 'passage_of_gases', 'swelling_joints',\n",
       "       'neck_pain', 'skin_peeling', 'yellow_urine',\n",
       "       ...\n",
       "       'history_of_alcohol_consumption', 'cramps', 'muscle_wasting',\n",
       "       'sinus_pressure', 'patches_in_throat', 'foul_smell_of urine',\n",
       "       'continuous_sneezing', 'spotting_ urination', 'mucoid_sputum',\n",
       "       'pain_behind_the_eyes'],\n",
       "      dtype='object', length=132)"
      ]
     },
     "execution_count": 12,
     "metadata": {},
     "output_type": "execute_result"
    }
   ],
   "source": [
    "dis_sym_data_v1.columns"
   ]
  },
  {
   "cell_type": "markdown",
   "id": "918fd30a",
   "metadata": {},
   "source": [
    "**Encoding Disease**"
   ]
  },
  {
   "cell_type": "code",
   "execution_count": 13,
   "id": "f34f6821",
   "metadata": {},
   "outputs": [],
   "source": [
    "var_mod = ['Disease']\n",
    "le = LabelEncoder()\n",
    "for i in var_mod:\n",
    "    dis_sym_data_v1[i] = le.fit_transform(dis_sym_data_v1[i])"
   ]
  },
  {
   "cell_type": "code",
   "execution_count": 14,
   "id": "5eb56f6b",
   "metadata": {},
   "outputs": [],
   "source": [
    "X = dis_sym_data_v1.drop(columns=\"Disease\")\n",
    "y = dis_sym_data_v1['Disease']"
   ]
  },
  {
   "cell_type": "markdown",
   "id": "1a1ec37f",
   "metadata": {},
   "source": [
    "**Model Generation**"
   ]
  },
  {
   "cell_type": "code",
   "execution_count": 15,
   "id": "d66072ee",
   "metadata": {},
   "outputs": [],
   "source": [
    "def class_algo(model,independent,dependent):\n",
    "    model.fit(independent,dependent)\n",
    "    pred = model.predict(independent)\n",
    "    accuracy = metrics.accuracy_score(pred,dependent)\n",
    "    print(model_name,'Accuracy : %s' % '{0:.3%}'.format(accuracy))"
   ]
  },
  {
   "cell_type": "code",
   "execution_count": 16,
   "id": "5676613a",
   "metadata": {},
   "outputs": [],
   "source": [
    "algorithms = {'Logistic Regression': \n",
    "              {\"model\": LogisticRegression()},\n",
    "              \n",
    "              'Decision Tree': \n",
    "              {\"model\": tree.DecisionTreeClassifier()},\n",
    "              \n",
    "              'Random Forest': \n",
    "              {\"model\": RandomForestClassifier()},\n",
    "              \n",
    "              'SVM':\n",
    "              {\"model\": svm.SVC(probability=True)},\n",
    "              \n",
    "              'NaiveBayes' :\n",
    "              {\"model\": GaussianNB()},\n",
    "              \n",
    "              'K-Nearest Neighbors' :\n",
    "              {\"model\": KNeighborsClassifier()},\n",
    "             }"
   ]
  },
  {
   "cell_type": "code",
   "execution_count": 17,
   "id": "47f3d0c5",
   "metadata": {},
   "outputs": [
    {
     "name": "stdout",
     "output_type": "stream",
     "text": [
      "Logistic Regression Accuracy : 100.000%\n",
      "Decision Tree Accuracy : 100.000%\n",
      "Random Forest Accuracy : 100.000%\n",
      "SVM Accuracy : 100.000%\n",
      "NaiveBayes Accuracy : 100.000%\n",
      "K-Nearest Neighbors Accuracy : 100.000%\n"
     ]
    }
   ],
   "source": [
    "for model_name, values in algorithms.items():\n",
    "    class_algo(values[\"model\"],X,y)"
   ]
  },
  {
   "cell_type": "markdown",
   "id": "ef872a26",
   "metadata": {},
   "source": [
    "**Map Description and Specialist for the Disease Predicted**"
   ]
  },
  {
   "cell_type": "code",
   "execution_count": 18,
   "id": "e246c638",
   "metadata": {},
   "outputs": [],
   "source": [
    "doc_data = pd.read_csv(\"Doctor_Versus_Disease.csv\",encoding='latin1', names=['Disease','Specialist'])"
   ]
  },
  {
   "cell_type": "code",
   "execution_count": 19,
   "id": "0a0a7b0e",
   "metadata": {},
   "outputs": [
    {
     "data": {
      "text/html": [
       "<div>\n",
       "<style scoped>\n",
       "    .dataframe tbody tr th:only-of-type {\n",
       "        vertical-align: middle;\n",
       "    }\n",
       "\n",
       "    .dataframe tbody tr th {\n",
       "        vertical-align: top;\n",
       "    }\n",
       "\n",
       "    .dataframe thead th {\n",
       "        text-align: right;\n",
       "    }\n",
       "</style>\n",
       "<table border=\"1\" class=\"dataframe\">\n",
       "  <thead>\n",
       "    <tr style=\"text-align: right;\">\n",
       "      <th></th>\n",
       "      <th>Disease</th>\n",
       "      <th>Specialist</th>\n",
       "    </tr>\n",
       "  </thead>\n",
       "  <tbody>\n",
       "    <tr>\n",
       "      <th>36</th>\n",
       "      <td>Bronchial Asthma</td>\n",
       "      <td>Pulmonologist</td>\n",
       "    </tr>\n",
       "    <tr>\n",
       "      <th>37</th>\n",
       "      <td>Pneumonia</td>\n",
       "      <td>Pulmonologist</td>\n",
       "    </tr>\n",
       "    <tr>\n",
       "      <th>38</th>\n",
       "      <td>Osteoarthristis</td>\n",
       "      <td>Rheumatologists</td>\n",
       "    </tr>\n",
       "    <tr>\n",
       "      <th>39</th>\n",
       "      <td>Arthritis</td>\n",
       "      <td>Rheumatologists</td>\n",
       "    </tr>\n",
       "    <tr>\n",
       "      <th>40</th>\n",
       "      <td>Tuberculosis</td>\n",
       "      <td>Tuberculosis</td>\n",
       "    </tr>\n",
       "  </tbody>\n",
       "</table>\n",
       "</div>"
      ],
      "text/plain": [
       "             Disease       Specialist\n",
       "36  Bronchial Asthma  Pulmonologist  \n",
       "37  Pneumonia         Pulmonologist  \n",
       "38  Osteoarthristis   Rheumatologists\n",
       "39  Arthritis         Rheumatologists\n",
       "40  Tuberculosis      Tuberculosis   "
      ]
     },
     "execution_count": 19,
     "metadata": {},
     "output_type": "execute_result"
    }
   ],
   "source": [
    "doc_data.tail(5)"
   ]
  },
  {
   "cell_type": "markdown",
   "id": "297fb976",
   "metadata": {},
   "source": [
    " -*Doctor name is wrong for Disease - Tuberculosis. Replace to Pulmonologist*-"
   ]
  },
  {
   "cell_type": "code",
   "execution_count": 20,
   "id": "fcd8f2ad",
   "metadata": {},
   "outputs": [],
   "source": [
    "doc_data['Specialist'] = np.where((doc_data['Disease'] == 'Tuberculosis'),'Pulmonologist', doc_data['Specialist'])"
   ]
  },
  {
   "cell_type": "code",
   "execution_count": 21,
   "id": "0893e5cd",
   "metadata": {},
   "outputs": [
    {
     "data": {
      "text/html": [
       "<div>\n",
       "<style scoped>\n",
       "    .dataframe tbody tr th:only-of-type {\n",
       "        vertical-align: middle;\n",
       "    }\n",
       "\n",
       "    .dataframe tbody tr th {\n",
       "        vertical-align: top;\n",
       "    }\n",
       "\n",
       "    .dataframe thead th {\n",
       "        text-align: right;\n",
       "    }\n",
       "</style>\n",
       "<table border=\"1\" class=\"dataframe\">\n",
       "  <thead>\n",
       "    <tr style=\"text-align: right;\">\n",
       "      <th></th>\n",
       "      <th>Disease</th>\n",
       "      <th>Specialist</th>\n",
       "    </tr>\n",
       "  </thead>\n",
       "  <tbody>\n",
       "    <tr>\n",
       "      <th>36</th>\n",
       "      <td>Bronchial Asthma</td>\n",
       "      <td>Pulmonologist</td>\n",
       "    </tr>\n",
       "    <tr>\n",
       "      <th>37</th>\n",
       "      <td>Pneumonia</td>\n",
       "      <td>Pulmonologist</td>\n",
       "    </tr>\n",
       "    <tr>\n",
       "      <th>38</th>\n",
       "      <td>Osteoarthristis</td>\n",
       "      <td>Rheumatologists</td>\n",
       "    </tr>\n",
       "    <tr>\n",
       "      <th>39</th>\n",
       "      <td>Arthritis</td>\n",
       "      <td>Rheumatologists</td>\n",
       "    </tr>\n",
       "    <tr>\n",
       "      <th>40</th>\n",
       "      <td>Tuberculosis</td>\n",
       "      <td>Pulmonologist</td>\n",
       "    </tr>\n",
       "  </tbody>\n",
       "</table>\n",
       "</div>"
      ],
      "text/plain": [
       "             Disease       Specialist\n",
       "36  Bronchial Asthma  Pulmonologist  \n",
       "37  Pneumonia         Pulmonologist  \n",
       "38  Osteoarthristis   Rheumatologists\n",
       "39  Arthritis         Rheumatologists\n",
       "40  Tuberculosis      Pulmonologist  "
      ]
     },
     "execution_count": 21,
     "metadata": {},
     "output_type": "execute_result"
    }
   ],
   "source": [
    "doc_data.tail(5)"
   ]
  },
  {
   "cell_type": "code",
   "execution_count": 22,
   "id": "76c06633",
   "metadata": {},
   "outputs": [],
   "source": [
    "des_data = pd.read_csv(\"Disease_Description.csv\")"
   ]
  },
  {
   "cell_type": "code",
   "execution_count": 23,
   "id": "7210a6ff",
   "metadata": {},
   "outputs": [
    {
     "data": {
      "text/html": [
       "<div>\n",
       "<style scoped>\n",
       "    .dataframe tbody tr th:only-of-type {\n",
       "        vertical-align: middle;\n",
       "    }\n",
       "\n",
       "    .dataframe tbody tr th {\n",
       "        vertical-align: top;\n",
       "    }\n",
       "\n",
       "    .dataframe thead th {\n",
       "        text-align: right;\n",
       "    }\n",
       "</style>\n",
       "<table border=\"1\" class=\"dataframe\">\n",
       "  <thead>\n",
       "    <tr style=\"text-align: right;\">\n",
       "      <th></th>\n",
       "      <th>Disease</th>\n",
       "      <th>Description</th>\n",
       "    </tr>\n",
       "  </thead>\n",
       "  <tbody>\n",
       "    <tr>\n",
       "      <th>0</th>\n",
       "      <td>Drug Reaction</td>\n",
       "      <td>An adverse drug reaction (ADR) is an injury caused by taking medication. ADRs may occur following a single dose or prolonged administration of a drug or result from the combination of two or more drugs.</td>\n",
       "    </tr>\n",
       "    <tr>\n",
       "      <th>1</th>\n",
       "      <td>Malaria</td>\n",
       "      <td>An infectious disease caused by protozoan parasites from the Plasmodium family that can be transmitted by the bite of the Anopheles mosquito or by a contaminated needle or transfusion. Falciparum malaria is the most deadly type.</td>\n",
       "    </tr>\n",
       "    <tr>\n",
       "      <th>2</th>\n",
       "      <td>Allergy</td>\n",
       "      <td>An allergy is an immune system response to a foreign substance that's not typically harmful to your body.They can include certain foods, pollen, or pet dander. Your immune system's job is to keep you healthy by fighting harmful pathogens.</td>\n",
       "    </tr>\n",
       "    <tr>\n",
       "      <th>3</th>\n",
       "      <td>Hypothyroidism</td>\n",
       "      <td>Hypothyroidism, also called underactive thyroid or low thyroid, is a disorder of the endocrine system in which the thyroid gland does not produce enough thyroid hormone.</td>\n",
       "    </tr>\n",
       "    <tr>\n",
       "      <th>4</th>\n",
       "      <td>Psoriasis</td>\n",
       "      <td>Psoriasis is a common skin disorder that forms thick, red, bumpy patches covered with silvery scales. They can pop up anywhere, but most appear on the scalp, elbows, knees, and lower back. Psoriasis can't be passed from person to person. It does sometimes happen in members of the same family.</td>\n",
       "    </tr>\n",
       "  </tbody>\n",
       "</table>\n",
       "</div>"
      ],
      "text/plain": [
       "          Disease  \\\n",
       "0  Drug Reaction    \n",
       "1  Malaria          \n",
       "2  Allergy          \n",
       "3  Hypothyroidism   \n",
       "4  Psoriasis        \n",
       "\n",
       "                                                                                                                                                                                                                                                                                             Description  \n",
       "0  An adverse drug reaction (ADR) is an injury caused by taking medication. ADRs may occur following a single dose or prolonged administration of a drug or result from the combination of two or more drugs.                                                                                             \n",
       "1  An infectious disease caused by protozoan parasites from the Plasmodium family that can be transmitted by the bite of the Anopheles mosquito or by a contaminated needle or transfusion. Falciparum malaria is the most deadly type.                                                                   \n",
       "2  An allergy is an immune system response to a foreign substance that's not typically harmful to your body.They can include certain foods, pollen, or pet dander. Your immune system's job is to keep you healthy by fighting harmful pathogens.                                                         \n",
       "3  Hypothyroidism, also called underactive thyroid or low thyroid, is a disorder of the endocrine system in which the thyroid gland does not produce enough thyroid hormone.                                                                                                                              \n",
       "4  Psoriasis is a common skin disorder that forms thick, red, bumpy patches covered with silvery scales. They can pop up anywhere, but most appear on the scalp, elbows, knees, and lower back. Psoriasis can't be passed from person to person. It does sometimes happen in members of the same family.  "
      ]
     },
     "execution_count": 23,
     "metadata": {},
     "output_type": "execute_result"
    }
   ],
   "source": [
    "des_data.head()"
   ]
  },
  {
   "cell_type": "markdown",
   "id": "748304f2",
   "metadata": {},
   "source": [
    "**Test with Unknown Data**"
   ]
  },
  {
   "cell_type": "code",
   "execution_count": 24,
   "id": "2a81e680",
   "metadata": {},
   "outputs": [],
   "source": [
    "test_col = []\n",
    "for col in dis_sym_data_v1.columns:\n",
    "    if col != 'Disease':\n",
    "        test_col.append(col)\n",
    "\n",
    "\n",
    "test_data = {}\n",
    "symptoms = []\n",
    "predicted = []\n",
    "def test_input():\n",
    "    symptoms.clear()\n",
    "    predicted.clear()\n",
    "    num_inputs = int(input(\"Enter the number of symptoms you have: \"))\n",
    "    for i in range(num_inputs):\n",
    "        user_input = input(\"Enter Symptoms #{}: \".format(i+1))\n",
    "        symptoms.append(user_input)\n",
    "    print(\"Symptoms you have:\", symptoms)\n",
    "    for column in test_col:\n",
    "        test_data[column] = 1 if column in symptoms else 0\n",
    "        test_df = pd.DataFrame(test_data, index=[0])\n",
    "    print(\"Predicting Disease based on 6 ML algorithms...\")\n",
    "    for model_name, values in algorithms.items():\n",
    "        predict_disease = values[\"model\"].predict(test_df)\n",
    "        predict_disease = le.inverse_transform(predict_disease)\n",
    "        predicted.extend(predict_disease)\n",
    "    disease_counts = Counter(predicted)\n",
    "    percentage_per_disease = {disease: (count / 6) * 100 for disease, count in disease_counts.items()}\n",
    "    result_df = pd.DataFrame({\"Disease\": list(percentage_per_disease.keys()),\n",
    "                               \"Chances\": list(percentage_per_disease.values())})\n",
    "    result_df = result_df.merge(doc_data, on='Disease', how='left')\n",
    "    result_df = result_df.merge(des_data, on='Disease', how='left')\n",
    "    return result_df"
   ]
  },
  {
   "cell_type": "code",
   "execution_count": 25,
   "id": "e5de69c7",
   "metadata": {
    "scrolled": true
   },
   "outputs": [
    {
     "name": "stdout",
     "output_type": "stream",
     "text": [
      "Enter the number of symptoms you have: 3\n",
      "Enter Symptoms #1: chills\n",
      "Enter Symptoms #2: knee_pain\n",
      "Enter Symptoms #3: acidity\n",
      "Symptoms you have: ['chills', 'knee_pain', 'acidity']\n",
      "Predicting Disease based on 6 ML algorithms...\n"
     ]
    },
    {
     "data": {
      "text/html": [
       "<div>\n",
       "<style scoped>\n",
       "    .dataframe tbody tr th:only-of-type {\n",
       "        vertical-align: middle;\n",
       "    }\n",
       "\n",
       "    .dataframe tbody tr th {\n",
       "        vertical-align: top;\n",
       "    }\n",
       "\n",
       "    .dataframe thead th {\n",
       "        text-align: right;\n",
       "    }\n",
       "</style>\n",
       "<table border=\"1\" class=\"dataframe\">\n",
       "  <thead>\n",
       "    <tr style=\"text-align: right;\">\n",
       "      <th></th>\n",
       "      <th>Disease</th>\n",
       "      <th>Chances</th>\n",
       "      <th>Specialist</th>\n",
       "      <th>Description</th>\n",
       "    </tr>\n",
       "  </thead>\n",
       "  <tbody>\n",
       "    <tr>\n",
       "      <th>0</th>\n",
       "      <td>Allergy</td>\n",
       "      <td>100.0</td>\n",
       "      <td>Allergist</td>\n",
       "      <td>An allergy is an immune system response to a foreign substance that's not typically harmful to your body.They can include certain foods, pollen, or pet dander. Your immune system's job is to keep you healthy by fighting harmful pathogens.</td>\n",
       "    </tr>\n",
       "  </tbody>\n",
       "</table>\n",
       "</div>"
      ],
      "text/plain": [
       "   Disease  Chances Specialist  \\\n",
       "0  Allergy  100.0    Allergist   \n",
       "\n",
       "                                                                                                                                                                                                                                      Description  \n",
       "0  An allergy is an immune system response to a foreign substance that's not typically harmful to your body.They can include certain foods, pollen, or pet dander. Your immune system's job is to keep you healthy by fighting harmful pathogens.  "
      ]
     },
     "execution_count": 25,
     "metadata": {},
     "output_type": "execute_result"
    }
   ],
   "source": [
    "test_input()"
   ]
  },
  {
   "cell_type": "code",
   "execution_count": null,
   "id": "2370e0a2",
   "metadata": {},
   "outputs": [],
   "source": []
  }
 ],
 "metadata": {
  "kernelspec": {
   "display_name": "Python 3 (ipykernel)",
   "language": "python",
   "name": "python3"
  },
  "language_info": {
   "codemirror_mode": {
    "name": "ipython",
    "version": 3
   },
   "file_extension": ".py",
   "mimetype": "text/x-python",
   "name": "python",
   "nbconvert_exporter": "python",
   "pygments_lexer": "ipython3",
   "version": "3.9.7"
  }
 },
 "nbformat": 4,
 "nbformat_minor": 5
}
